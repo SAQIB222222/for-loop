{
 "cells": [
  {
   "cell_type": "markdown",
   "id": "3f94672a-8273-48c6-8570-7062d340d74c",
   "metadata": {},
   "source": [
    "Q1"
   ]
  },
  {
   "cell_type": "markdown",
   "id": "58d639f0-444f-41b9-916e-4534ae3acff9",
   "metadata": {},
   "source": [
    "A for loop and a while loop are both control structures in programming languages that allow you to execute a block of code repeatedly. While both loops serve similar purposes, they differ in their syntax and usage.\n",
    "\n",
    "Here are some examples of when to use a for loop and a while loop:\n",
    "\n",
    "When to use a for loop\n",
    "\n",
    "A for loop is typically used when you want to iterate over a fixed sequence of elements, such as a list or an array, and perform a specific operation on each element.\n",
    "examples of while loop is:"
   ]
  },
  {
   "cell_type": "code",
   "execution_count": 1,
   "id": "f84a5990-4dac-4fdc-9e69-028983edc16d",
   "metadata": {},
   "outputs": [
    {
     "name": "stdout",
     "output_type": "stream",
     "text": [
      "1\n",
      "2\n",
      "3\n",
      "4\n",
      "5\n",
      "6\n",
      "7\n",
      "8\n",
      "9\n"
     ]
    }
   ],
   "source": [
    "l = [1,2,3,4,5,6,7,8,9]\n",
    "for i in l:\n",
    "     print(i)\n",
    "#In this example, the for loop iterates over each element in the numbers list, assigns each element to the variable num, and then prints the value of num.\n"
   ]
  },
  {
   "cell_type": "markdown",
   "id": "4032ddbd-2c84-4e5e-889f-4c69d1432a33",
   "metadata": {},
   "source": [
    "A while loop is typically used when you want to repeat a block of code until a certain condition is met. The condition is checked before the loop body is executed, and if it evaluates to True, the loop body is executed. This process continues until the condition becomes False.\n",
    "\n",
    "Here's an example of using a while loop to calculate the factorial of a number:\n"
   ]
  },
  {
   "cell_type": "code",
   "execution_count": 2,
   "id": "3c00459f-0504-422f-a6ae-f305cf16c6f0",
   "metadata": {},
   "outputs": [
    {
     "name": "stdin",
     "output_type": "stream",
     "text": [
      "enter the number 5\n"
     ]
    },
    {
     "name": "stdout",
     "output_type": "stream",
     "text": [
      "120\n"
     ]
    }
   ],
   "source": [
    "n =int(input(\"enter the number\"))\n",
    "factorial = 1\n",
    "while n>0:\n",
    "    factorial=factorial*n\n",
    "    n= n - 1\n",
    "print(factorial)\n",
    "\n",
    "#In this example, the while loop is used to calculate the factorial of the number 5. The loop continues to execute as long as n is greater than 0. In each iteration of the loop, the value of n is multiplied by factorial, and then decremented by 1. The loop continues until n becomes 0."
   ]
  },
  {
   "cell_type": "markdown",
   "id": "77ef4ec1-141c-4aff-9803-4bbfa1c3a91c",
   "metadata": {},
   "source": [
    "Q2"
   ]
  },
  {
   "cell_type": "code",
   "execution_count": 3,
   "id": "f5da2257-5487-4f34-b203-13b30d40295b",
   "metadata": {},
   "outputs": [
    {
     "name": "stdout",
     "output_type": "stream",
     "text": [
      "55\n",
      "3628800\n"
     ]
    }
   ],
   "source": [
    "# Sum of first 10 natural numbers using a for loop\n",
    "sum = 0\n",
    "for i in range(1, 11):\n",
    "    sum = sum + i\n",
    "\n",
    "print(sum)\n",
    "\n",
    "# Product of first 10 natural numbers using a for loop\n",
    "p = 1\n",
    "for i in range(1, 11):\n",
    "    p = p*i\n",
    "\n",
    "print(p)\n",
    "\n",
    "\n"
   ]
  },
  {
   "cell_type": "code",
   "execution_count": 4,
   "id": "6916f726-7935-4e95-a41a-51991acae38d",
   "metadata": {},
   "outputs": [
    {
     "name": "stdout",
     "output_type": "stream",
     "text": [
      "55\n",
      "3628800\n"
     ]
    }
   ],
   "source": [
    "#sum of first 10 natural number using while loop\n",
    "sum = 0\n",
    "i = 1\n",
    "while i <= 10:\n",
    "    sum = sum+i\n",
    "    i = i +1\n",
    "print(sum)\n",
    "    \n",
    " # Product of first 10 natural numbers using while loop   \n",
    "p =1\n",
    "i=1\n",
    "while i <=10:\n",
    "    p = p*i\n",
    "    i = i + 1\n",
    "    \n",
    "print(p)\n",
    "\n"
   ]
  },
  {
   "cell_type": "markdown",
   "id": "232f9d8d-569a-4448-a1e6-af42bcdd0335",
   "metadata": {},
   "source": [
    "Q3"
   ]
  },
  {
   "cell_type": "code",
   "execution_count": 5,
   "id": "05e9aa36-fa09-4077-b8c8-4e7976eb12c3",
   "metadata": {},
   "outputs": [
    {
     "name": "stdin",
     "output_type": "stream",
     "text": [
      "Enter the units of electricity consumed:  310\n"
     ]
    },
    {
     "name": "stdout",
     "output_type": "stream",
     "text": [
      "the electricity bill is 2250.0\n"
     ]
    }
   ],
   "source": [
    "\n",
    "units_consumed = int(input(\"Enter the units of electricity consumed: \"))\n",
    "\n",
    "\n",
    "if units_consumed <= 100:\n",
    "    bill_amount = units_consumed * 4.5\n",
    "elif units_consumed <= 200:\n",
    "    bill_amount = (100 * 4.5) + ((units_consumed - 100) * 6)\n",
    "elif units_consumed <= 300:\n",
    "    bill_amount = (100 * 4.5) + (100 * 6) + ((units_consumed - 200) * 10)\n",
    "else:\n",
    "    bill_amount = (100 * 4.5) + (100 * 6) + (100 * 10) + ((units_consumed - 300) * 20)\n",
    "\n",
    "\n",
    "print(\"the electricity bill is\",bill_amount)\n",
    "\n",
    "    \n"
   ]
  },
  {
   "cell_type": "markdown",
   "id": "86b5aef1-7900-4be3-aed9-cc979d61c4bb",
   "metadata": {},
   "source": [
    "Q4"
   ]
  },
  {
   "cell_type": "code",
   "execution_count": 6,
   "id": "e80b2a02-d524-4ca9-8afd-6bfab6dbb6dc",
   "metadata": {},
   "outputs": [
    {
     "name": "stdout",
     "output_type": "stream",
     "text": [
      "[1, 2, 3, 4, 5, 6, 7, 8, 9, 10, 11, 12, 13, 14, 15, 16, 17, 18, 19, 20, 21, 22, 23, 24, 25, 26, 27, 28, 29, 30, 31, 32, 33, 34, 35, 36, 37, 38, 39, 40, 41, 42, 43, 44, 45, 46, 47, 48, 49, 50, 51, 52, 53, 54, 55, 56, 57, 58, 59, 60, 61, 62, 63, 64, 65, 66, 67, 68, 69, 70, 71, 72, 73, 74, 75, 76, 77, 78, 79, 80, 81, 82, 83, 84, 85, 86, 87, 88, 89, 90, 91, 92, 93, 94, 95, 96, 97, 98, 99, 100]\n"
     ]
    }
   ],
   "source": [
    "n = list(range(1,101))\n",
    "print(n)"
   ]
  },
  {
   "cell_type": "code",
   "execution_count": 7,
   "id": "e1ac4ce8-a994-48eb-907a-30eed0811eb1",
   "metadata": {},
   "outputs": [],
   "source": [
    "result = []\n",
    "for i in n:\n",
    "    cubes = i**3"
   ]
  },
  {
   "cell_type": "code",
   "execution_count": 8,
   "id": "1704ace9-f8a9-41b1-85d4-3a8abbc81279",
   "metadata": {},
   "outputs": [],
   "source": [
    "if cubes % 4 == 0 or cubes % 5 == 0:\n",
    "    result.append(n)"
   ]
  },
  {
   "cell_type": "code",
   "execution_count": 9,
   "id": "72f9291a-3057-4016-8e38-82d18b65b566",
   "metadata": {},
   "outputs": [
    {
     "name": "stdout",
     "output_type": "stream",
     "text": [
      "[[1, 2, 3, 4, 5, 6, 7, 8, 9, 10, 11, 12, 13, 14, 15, 16, 17, 18, 19, 20, 21, 22, 23, 24, 25, 26, 27, 28, 29, 30, 31, 32, 33, 34, 35, 36, 37, 38, 39, 40, 41, 42, 43, 44, 45, 46, 47, 48, 49, 50, 51, 52, 53, 54, 55, 56, 57, 58, 59, 60, 61, 62, 63, 64, 65, 66, 67, 68, 69, 70, 71, 72, 73, 74, 75, 76, 77, 78, 79, 80, 81, 82, 83, 84, 85, 86, 87, 88, 89, 90, 91, 92, 93, 94, 95, 96, 97, 98, 99, 100]]\n"
     ]
    }
   ],
   "source": [
    "print(result)"
   ]
  },
  {
   "cell_type": "code",
   "execution_count": null,
   "id": "fda10fb3-d600-412f-bd14-67799b6ae8ab",
   "metadata": {},
   "outputs": [],
   "source": [
    "result = []\n",
    "i = 1\n",
    "while i <=100:\n",
    "    cube = i**3"
   ]
  },
  {
   "cell_type": "code",
   "execution_count": null,
   "id": "732ecfc2-2939-40e5-bddf-f870ff999bcf",
   "metadata": {},
   "outputs": [],
   "source": [
    "if cube % 4 == 0 or cube % 5 == 0:\n",
    "     result.append(i)\n",
    "        i = i + 1"
   ]
  },
  {
   "cell_type": "code",
   "execution_count": null,
   "id": "373d9c17-bce8-40bb-9ce4-3addf283cba9",
   "metadata": {},
   "outputs": [],
   "source": [
    "print(result)"
   ]
  },
  {
   "cell_type": "markdown",
   "id": "92049b8e-096f-4269-920b-76fba650e483",
   "metadata": {},
   "source": [
    "Q5"
   ]
  },
  {
   "cell_type": "code",
   "execution_count": null,
   "id": "edbc723d-92fb-46a4-a9b4-5c8916cbbd57",
   "metadata": {},
   "outputs": [],
   "source": [
    "string = \"I want to become a data scientist\"\n",
    "vowels = ['a', 'e', 'i', 'o', 'u']\n",
    "count = 0\n",
    "\n",
    "for char in string:\n",
    "    if char.lower() in vowels:\n",
    "        count = count+ 1\n",
    "        \n",
    "print(\"The number of vowels in the string is:\", count)\n"
   ]
  },
  {
   "cell_type": "code",
   "execution_count": null,
   "id": "a2e0a8fb-eabf-4a59-961d-252a7a37aa12",
   "metadata": {},
   "outputs": [],
   "source": []
  }
 ],
 "metadata": {
  "kernelspec": {
   "display_name": "Python 3 (ipykernel)",
   "language": "python",
   "name": "python3"
  },
  "language_info": {
   "codemirror_mode": {
    "name": "ipython",
    "version": 3
   },
   "file_extension": ".py",
   "mimetype": "text/x-python",
   "name": "python",
   "nbconvert_exporter": "python",
   "pygments_lexer": "ipython3",
   "version": "3.10.8"
  }
 },
 "nbformat": 4,
 "nbformat_minor": 5
}
